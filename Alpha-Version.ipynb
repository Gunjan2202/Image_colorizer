{
 "cells": [
  {
   "cell_type": "code",
   "execution_count": 1,
   "metadata": {},
   "outputs": [
    {
     "name": "stderr",
     "output_type": "stream",
     "text": [
      "C:\\Users\\hp\\Anaconda3\\lib\\site-packages\\skimage\\viewer\\utils\\core.py:10: UserWarning: Recommended matplotlib backend is `Agg` for full skimage.viewer functionality.\n",
      "  warn(\"Recommended matplotlib backend is `Agg` for full \"\n"
     ]
    }
   ],
   "source": [
    "from keras.layers import Conv2D, InputLayer, UpSampling2D\n",
    "import numpy as np\n",
    "import csv\n",
    "from keras.models import Sequential\n",
    "from keras.layers.normalization import BatchNormalization\n",
    "import tensorflow as tf\n",
    "import cv2\n",
    "import matplotlib.pyplot as plt\n",
    "from keras.preprocessing.image import load_img, img_to_array\n",
    "from skimage.color import rgb2lab, lab2rgb, rgb2gray\n",
    "from skimage.viewer import ImageViewer\n",
    "from skimage.io import imsave\n",
    "import glob\n",
    "import os\n",
    "%matplotlib inline"
   ]
  },
  {
   "cell_type": "code",
   "execution_count": 4,
   "metadata": {},
   "outputs": [],
   "source": [
    "from keras.models import load_model"
   ]
  },
  {
   "cell_type": "code",
   "execution_count": 2,
   "metadata": {},
   "outputs": [],
   "source": [
    "img_dir = \"./gray1\" # Enter Directory of all images  \n",
    "data_path = os.path.join(img_dir,'*g') \n",
    "files = glob.glob(data_path) \n",
    "x_train = [] \n",
    "for f1 in files: \n",
    "    img = cv2.imread(f1,0) \n",
    "    img=img[:144,:144]\n",
    "    img =img.flatten()\n",
    "    for j in img:\n",
    "        x_train.append(j)"
   ]
  },
  {
   "cell_type": "code",
   "execution_count": null,
   "metadata": {},
   "outputs": [],
   "source": [
    "img_dir = \"./color1\" # Enter Directory of all images  \n",
    "data_path = os.path.join(img_dir,'*g') \n",
    "files = glob.glob(data_path) \n",
    "y_train = [] \n",
    "\n",
    "for f1 in files: \n",
    "    img = cv2.imread(f1,1) \n",
    "    img=cv2.cvtColor(img,cv2.COLOR_BGR2RGB)\n",
    "    img=img[:144,:144,:]\n",
    "    img =img.flatten()\n",
    "    for j in img:\n",
    "        y_train.append(j)"
   ]
  },
  {
   "cell_type": "code",
   "execution_count": 7,
   "metadata": {},
   "outputs": [],
   "source": [
    "x_train=np.array(x_train)\n",
    "x_train=x_train.reshape(2994,144,144,1);"
   ]
  },
  {
   "cell_type": "code",
   "execution_count": 5,
   "metadata": {},
   "outputs": [],
   "source": [
    "y_train=np.array(y_train)\n",
    "y_train=y_train.reshape(2994,144,144,3);"
   ]
  },
  {
   "cell_type": "code",
   "execution_count": 8,
   "metadata": {},
   "outputs": [],
   "source": [
    "x_train= 1.0/255* x_train"
   ]
  },
  {
   "cell_type": "code",
   "execution_count": 7,
   "metadata": {},
   "outputs": [],
   "source": [
    "y_train = 1.0/255* y_train"
   ]
  },
  {
   "cell_type": "code",
   "execution_count": 8,
   "metadata": {},
   "outputs": [],
   "source": [
    "model = Sequential()\n",
    "model.add(InputLayer(input_shape =(None, None, 1)))\n",
    "model.add(Conv2D(64, (3, 3), activation='relu', padding='same'))\n",
    "model.add(Conv2D(64, (3, 3), activation='relu', padding='same', strides=2))\n",
    "model.add(Conv2D(128, (3, 3), activation='relu', padding='same'))\n",
    "model.add(Conv2D(128, (3, 3), activation='relu', padding='same', strides=2))\n",
    "model.add(Conv2D(256, (3, 3), activation='relu', padding='same'))\n",
    "model.add(Conv2D(256, (3, 3), activation='relu', padding='same', strides=2))\n",
    "model.add(Conv2D(512, (3, 3), activation='relu', padding='same'))\n",
    "model.add(Conv2D(256, (3, 3), activation='relu', padding='same'))\n",
    "model.add(Conv2D(128, (3, 3), activation='relu', padding='same'))\n",
    "model.add(UpSampling2D((2, 2)))\n",
    "model.add(Conv2D(64, (3, 3), activation='relu', padding='same'))\n",
    "model.add(UpSampling2D((2, 2)))\n",
    "model.add(Conv2D(32, (3, 3), activation='relu', padding='same'))\n",
    "model.add(Conv2D(3, (3, 3), activation='tanh', padding='same'))\n",
    "model.add(UpSampling2D((2, 2)))"
   ]
  },
  {
   "cell_type": "code",
   "execution_count": 9,
   "metadata": {},
   "outputs": [],
   "source": [
    "model.compile(optimizer='rmsprop', loss='mse')"
   ]
  },
  {
   "cell_type": "code",
   "execution_count": 10,
   "metadata": {},
   "outputs": [
    {
     "name": "stdout",
     "output_type": "stream",
     "text": [
      "Model: \"sequential\"\n",
      "_________________________________________________________________\n",
      "Layer (type)                 Output Shape              Param #   \n",
      "=================================================================\n",
      "conv2d (Conv2D)              (None, None, None, 64)    640       \n",
      "_________________________________________________________________\n",
      "conv2d_1 (Conv2D)            (None, None, None, 64)    36928     \n",
      "_________________________________________________________________\n",
      "conv2d_2 (Conv2D)            (None, None, None, 128)   73856     \n",
      "_________________________________________________________________\n",
      "conv2d_3 (Conv2D)            (None, None, None, 128)   147584    \n",
      "_________________________________________________________________\n",
      "conv2d_4 (Conv2D)            (None, None, None, 256)   295168    \n",
      "_________________________________________________________________\n",
      "conv2d_5 (Conv2D)            (None, None, None, 256)   590080    \n",
      "_________________________________________________________________\n",
      "conv2d_6 (Conv2D)            (None, None, None, 512)   1180160   \n",
      "_________________________________________________________________\n",
      "conv2d_7 (Conv2D)            (None, None, None, 256)   1179904   \n",
      "_________________________________________________________________\n",
      "conv2d_8 (Conv2D)            (None, None, None, 128)   295040    \n",
      "_________________________________________________________________\n",
      "up_sampling2d (UpSampling2D) (None, None, None, 128)   0         \n",
      "_________________________________________________________________\n",
      "conv2d_9 (Conv2D)            (None, None, None, 64)    73792     \n",
      "_________________________________________________________________\n",
      "up_sampling2d_1 (UpSampling2 (None, None, None, 64)    0         \n",
      "_________________________________________________________________\n",
      "conv2d_10 (Conv2D)           (None, None, None, 32)    18464     \n",
      "_________________________________________________________________\n",
      "conv2d_11 (Conv2D)           (None, None, None, 3)     867       \n",
      "_________________________________________________________________\n",
      "up_sampling2d_2 (UpSampling2 (None, None, None, 3)     0         \n",
      "=================================================================\n",
      "Total params: 3,892,483\n",
      "Trainable params: 3,892,483\n",
      "Non-trainable params: 0\n",
      "_________________________________________________________________\n"
     ]
    }
   ],
   "source": [
    "model.summary()"
   ]
  },
  {
   "cell_type": "code",
   "execution_count": 11,
   "metadata": {},
   "outputs": [
    {
     "name": "stdout",
     "output_type": "stream",
     "text": [
      "Epoch 1/50\n",
      "94/94 [==============================] - 430s 5s/step - loss: 0.1983\n",
      "Epoch 2/50\n",
      "94/94 [==============================] - 440s 5s/step - loss: 0.0452\n",
      "Epoch 3/50\n",
      "94/94 [==============================] - 433s 5s/step - loss: 0.0337\n",
      "Epoch 4/50\n",
      "94/94 [==============================] - 432s 5s/step - loss: 0.0292\n",
      "Epoch 5/50\n",
      "94/94 [==============================] - 434s 5s/step - loss: 0.0262\n",
      "Epoch 6/50\n",
      "94/94 [==============================] - 455s 5s/step - loss: 0.0250\n",
      "Epoch 7/50\n",
      "94/94 [==============================] - 427s 5s/step - loss: 0.0238\n",
      "Epoch 8/50\n",
      "94/94 [==============================] - 415s 4s/step - loss: 0.0227\n",
      "Epoch 9/50\n",
      "94/94 [==============================] - 417s 4s/step - loss: 0.0221\n",
      "Epoch 10/50\n",
      "94/94 [==============================] - 419s 4s/step - loss: 0.0212\n",
      "Epoch 11/50\n",
      "94/94 [==============================] - 418s 4s/step - loss: 0.0208\n",
      "Epoch 12/50\n",
      "94/94 [==============================] - 398s 4s/step - loss: 0.0204\n",
      "Epoch 13/50\n",
      "94/94 [==============================] - 384s 4s/step - loss: 0.0200\n",
      "Epoch 14/50\n",
      "94/94 [==============================] - 402s 4s/step - loss: 0.0195\n",
      "Epoch 15/50\n",
      "94/94 [==============================] - 415s 4s/step - loss: 0.0193\n",
      "Epoch 16/50\n",
      "94/94 [==============================] - 417s 4s/step - loss: 0.0190\n",
      "Epoch 17/50\n",
      "94/94 [==============================] - 415s 4s/step - loss: 0.0187\n",
      "Epoch 18/50\n",
      "94/94 [==============================] - 416s 4s/step - loss: 0.0184\n",
      "Epoch 19/50\n",
      "94/94 [==============================] - 415s 4s/step - loss: 0.0182\n",
      "Epoch 20/50\n",
      "94/94 [==============================] - 418s 4s/step - loss: 0.0180\n",
      "Epoch 21/50\n",
      "94/94 [==============================] - 422s 4s/step - loss: 0.0178\n",
      "Epoch 22/50\n",
      "94/94 [==============================] - 431s 5s/step - loss: 0.0176\n",
      "Epoch 23/50\n",
      "94/94 [==============================] - 445s 5s/step - loss: 0.0173\n",
      "Epoch 24/50\n",
      "94/94 [==============================] - 445s 5s/step - loss: 0.0171\n",
      "Epoch 25/50\n",
      "94/94 [==============================] - 450s 5s/step - loss: 0.0168\n",
      "Epoch 26/50\n",
      "94/94 [==============================] - 458s 5s/step - loss: 0.0166\n",
      "Epoch 27/50\n",
      "94/94 [==============================] - 484s 5s/step - loss: 0.0163\n",
      "Epoch 28/50\n",
      "94/94 [==============================] - 535s 6s/step - loss: 0.0162\n",
      "Epoch 29/50\n",
      "94/94 [==============================] - 546s 6s/step - loss: 0.0160\n",
      "Epoch 30/50\n",
      "94/94 [==============================] - 541s 6s/step - loss: 0.0158\n",
      "Epoch 31/50\n",
      "94/94 [==============================] - 421s 4s/step - loss: 0.0155\n",
      "Epoch 32/50\n",
      "94/94 [==============================] - 411s 4s/step - loss: 0.0154\n",
      "Epoch 33/50\n",
      "94/94 [==============================] - 385s 4s/step - loss: 0.0152\n",
      "Epoch 34/50\n",
      "94/94 [==============================] - 386s 4s/step - loss: 0.0150\n",
      "Epoch 35/50\n",
      "94/94 [==============================] - 381s 4s/step - loss: 0.0149\n",
      "Epoch 36/50\n",
      "94/94 [==============================] - 380s 4s/step - loss: 0.0147\n",
      "Epoch 37/50\n",
      "94/94 [==============================] - 381s 4s/step - loss: 0.0146\n",
      "Epoch 38/50\n",
      "94/94 [==============================] - 381s 4s/step - loss: 0.0145\n",
      "Epoch 39/50\n",
      "94/94 [==============================] - 382s 4s/step - loss: 0.0143\n",
      "Epoch 40/50\n",
      "94/94 [==============================] - 383s 4s/step - loss: 0.0141\n",
      "Epoch 41/50\n",
      "94/94 [==============================] - 384s 4s/step - loss: 0.0140\n",
      "Epoch 42/50\n",
      "94/94 [==============================] - 384s 4s/step - loss: 0.0139\n",
      "Epoch 43/50\n",
      "94/94 [==============================] - 381s 4s/step - loss: 0.0137\n",
      "Epoch 44/50\n",
      "94/94 [==============================] - 382s 4s/step - loss: 0.0137\n",
      "Epoch 45/50\n",
      "94/94 [==============================] - 380s 4s/step - loss: 0.0135\n",
      "Epoch 46/50\n",
      "94/94 [==============================] - 383s 4s/step - loss: 0.0135\n",
      "Epoch 47/50\n",
      "94/94 [==============================] - 381s 4s/step - loss: 0.0133\n",
      "Epoch 48/50\n",
      "94/94 [==============================] - 393s 4s/step - loss: 0.0133\n",
      "Epoch 49/50\n",
      "94/94 [==============================] - 540s 6s/step - loss: 0.0131\n",
      "Epoch 50/50\n",
      "94/94 [==============================] - 537s 6s/step - loss: 0.0131\n"
     ]
    },
    {
     "data": {
      "text/plain": [
       "<tensorflow.python.keras.callbacks.History at 0x1f42872e390>"
      ]
     },
     "execution_count": 11,
     "metadata": {},
     "output_type": "execute_result"
    }
   ],
   "source": [
    "model.fit(x=x_train, \n",
    "    y=y_train,\n",
    "    batch_size=32,\n",
    "    epochs=50)"
   ]
  },
  {
   "cell_type": "code",
   "execution_count": 12,
   "metadata": {},
   "outputs": [],
   "source": [
    "model.save('C:/Users/hp/Downloads/AI-image-colorization-master/AI-image-colorization-master/Code/Alpha-Model/alpha_final.hdf5')"
   ]
  },
  {
   "cell_type": "code",
   "execution_count": 9,
   "metadata": {},
   "outputs": [],
   "source": [
    "model = load_model('C:/Users/hp/Downloads/AI-image-colorization-master/AI-image-colorization-master/Code/Alpha-Model/alpha_final.hdf5')"
   ]
  },
  {
   "cell_type": "code",
   "execution_count": 12,
   "metadata": {},
   "outputs": [],
   "source": [
    "pred=model.predict(x_train)"
   ]
  },
  {
   "cell_type": "code",
   "execution_count": 26,
   "metadata": {},
   "outputs": [
    {
     "data": {
      "text/plain": [
       "<matplotlib.image.AxesImage at 0x1edb8408550>"
      ]
     },
     "execution_count": 26,
     "metadata": {},
     "output_type": "execute_result"
    },
    {
     "data": {
      "image/png": "[encoded data removed]",
      "text/plain": [
       "<Figure size 432x288 with 1 Axes>"
      ]
     },
     "metadata": {
      "needs_background": "light"
     },
     "output_type": "display_data"
    }
   ],
   "source": [
    "plt.imshow(pred[121])"
   ]
  },
  {
   "cell_type": "code",
   "execution_count": 24,
   "metadata": {},
   "outputs": [],
   "source": [
    "img1 = x_train[121].reshape(144,144)"
   ]
  },
  {
   "cell_type": "code",
   "execution_count": 25,
   "metadata": {},
   "outputs": [
    {
     "data": {
      "text/plain": [
       "<matplotlib.image.AxesImage at 0x1edb64d2898>"
      ]
     },
     "execution_count": 25,
     "metadata": {},
     "output_type": "execute_result"
    },
    {
     "data": {
      "image/png": "[encoded data removed]",
      "text/plain": [
       "<Figure size 432x288 with 1 Axes>"
      ]
     },
     "metadata": {
      "needs_background": "light"
     },
     "output_type": "display_data"
    }
   ],
   "source": [
    "plt.imshow(img1,cmap='gray')"
   ]
  },
  {
   "cell_type": "code",
   "execution_count": 20,
   "metadata": {},
   "outputs": [
    {
     "name": "stdout",
     "output_type": "stream",
     "text": [
      "(144, 144, 1)\n"
     ]
    }
   ],
   "source": [
    "type(x_train[0])\n",
    "print(x_train[0].shape)"
   ]
  },
  {
   "cell_type": "code",
   "execution_count": null,
   "metadata": {},
   "outputs": [],
   "source": []
  }
 ],
 "metadata": {
  "kernelspec": {
   "display_name": "Python 3",
   "language": "python",
   "name": "python3"
  },
  "language_info": {
   "codemirror_mode": {
    "name": "ipython",
    "version": 3
   },
   "file_extension": ".py",
   "mimetype": "text/x-python",
   "name": "python",
   "nbconvert_exporter": "python",
   "pygments_lexer": "ipython3",
   "version": "3.7.6"
  }
 },
 "nbformat": 4,
 "nbformat_minor": 4
}
